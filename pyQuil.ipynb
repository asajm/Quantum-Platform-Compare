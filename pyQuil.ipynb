{
 "cells": [
  {
   "cell_type": "markdown",
   "id": "350127cf",
   "metadata": {},
   "source": [
    "\n",
    "- Most Quantum Cloud Services (QCS) users will want to use the Rigetti-hosted JupyterLab IDE to get a personal development environment with everything they need to get started. In some cases, users may choose to Install Locally. However, support for running from a local environment is limited.\n",
    "- Installing locally is most useful for development using a Quantum Virtual Machine (QVM). Running programs against a QPU requires a reservation as well as network access to the QPU (available via your provisioned JupyterLab IDE).\n",
    "- To make full use of pyQuil, you’ll want to have both the Quantum Virtual Machine (QVM) and the Quil Compiler (quilc) installed\n"
   ]
  },
  {
   "cell_type": "markdown",
   "id": "ce5085b1",
   "metadata": {},
   "source": [
    "## Version Information\n",
    "\n",
    "<table align=\"left\">\n",
    "  <thead>\n",
    "    <tr>\n",
    "      <th>Component</th>\n",
    "      <th>Version</th>\n",
    "    </tr>\n",
    "  </thead>\n",
    "  <tbody>\n",
    "    <tr>\n",
    "      <td>python</td>\n",
    "      <td>3.11.5</td>\n",
    "    </tr>\n",
    "    <tr>\n",
    "      <td>pyquil</td>\n",
    "      <td>4.10.0</td>\n",
    "    </tr>\n",
    "  </tbody>\n",
    "</table>\n",
    "\n",
    "</table>\n"
   ]
  },
  {
   "cell_type": "code",
   "execution_count": 1,
   "id": "e9514943",
   "metadata": {},
   "outputs": [],
   "source": [
    "from pyquil import Program, get_qc\n",
    "from pyquil.gates import *\n",
    "from pyquil.quilbase import Declare"
   ]
  },
  {
   "cell_type": "code",
   "execution_count": 2,
   "id": "8a9d9893",
   "metadata": {},
   "outputs": [],
   "source": [
    "p = Program(\n",
    "    Declare(\"ro\", \"BIT\", 2),\n",
    "    H(0),\n",
    "    CNOT(0, 1),\n",
    "    MEASURE(0, (\"ro\", 0)),\n",
    "    MEASURE(1, (\"ro\", 1)),\n",
    ").wrap_in_numshots_loop(10)"
   ]
  },
  {
   "cell_type": "markdown",
   "id": "15b68685",
   "metadata": {},
   "source": [
    "After install and activate docker on the machine, run the following commands:\n",
    "\n",
    "- `docker run --rm -it -p 5555:5555 rigetti/quilc -P -S`\n",
    "\n",
    "- `docker run --rm -it -p 5000:5000 rigetti/qvm -S`"
   ]
  },
  {
   "cell_type": "code",
   "execution_count": 8,
   "id": "8e023c73",
   "metadata": {},
   "outputs": [],
   "source": [
    "# # run the program on a QVM\n",
    "# qc = get_qc('9q-square-qvm')\n",
    "# result = qc.run(qc.compile(p)).get_register_map().get(\"ro\")\n",
    "# print(result[0])\n",
    "# print(result[1])"
   ]
  },
  {
   "cell_type": "code",
   "execution_count": 9,
   "id": "e51fc473",
   "metadata": {},
   "outputs": [
    {
     "name": "stdout",
     "output_type": "stream",
     "text": [
      "[0 0]\n",
      "[1 1]\n"
     ]
    }
   ],
   "source": [
    "# Assuming `p` is your quantum program\n",
    "qc = get_qc('9q-square-qvm')\n",
    "executable = qc.compile(p)\n",
    "result = qc.run(executable)\n",
    "\n",
    "# Access the results\n",
    "measurement_results = result.readout_data.get('ro')\n",
    "print(measurement_results[0])\n",
    "print(measurement_results[1])\n"
   ]
  },
  {
   "cell_type": "code",
   "execution_count": null,
   "id": "a3a68180",
   "metadata": {},
   "outputs": [],
   "source": []
  }
 ],
 "metadata": {
  "kernelspec": {
   "display_name": "Python 3 (ipykernel)",
   "language": "python",
   "name": "python3"
  },
  "language_info": {
   "codemirror_mode": {
    "name": "ipython",
    "version": 3
   },
   "file_extension": ".py",
   "mimetype": "text/x-python",
   "name": "python",
   "nbconvert_exporter": "python",
   "pygments_lexer": "ipython3",
   "version": "3.11.5"
  }
 },
 "nbformat": 4,
 "nbformat_minor": 5
}
