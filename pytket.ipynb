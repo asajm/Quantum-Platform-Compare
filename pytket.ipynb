{
 "cells": [
  {
   "cell_type": "markdown",
   "id": "e5e93b27",
   "metadata": {},
   "source": [
    "## Version Information\n",
    "\n",
    "<table align=\"left\">\n",
    "  <thead>\n",
    "    <tr>\n",
    "      <th>Component</th>\n",
    "      <th>Version</th>\n",
    "    </tr>\n",
    "  </thead>\n",
    "  <tbody>\n",
    "    <tr>\n",
    "      <td>python</td>\n",
    "      <td>3.11.5</td>\n",
    "    </tr>\n",
    "    <tr>\n",
    "      <td>pytket</td>\n",
    "      <td>1.27.0</td>\n",
    "    </tr>\n",
    "  </tbody>\n",
    "</table>\n",
    "\n",
    "</table>\n"
   ]
  },
  {
   "cell_type": "code",
   "execution_count": 1,
   "id": "dc383df8",
   "metadata": {},
   "outputs": [
    {
     "data": {
      "text/plain": [
       "[H q[0]; Rz(0.25) q[0]; CX q[1], q[0]; Measure q[0] --> c[0]; Measure q[1] --> c[1]; ]"
      ]
     },
     "execution_count": 1,
     "metadata": {},
     "output_type": "execute_result"
    }
   ],
   "source": [
    "from pytket import Circuit\n",
    "\n",
    "c = Circuit(2, 2) # define a circuit with 2 qubits and 2 bits\n",
    "c.H(0)            # add a Hadamard gate to qubit 0\n",
    "c.Rz(0.25, 0)     # add an Rz gate of angle 0.25*pi to qubit 0\n",
    "c.CX(1,0)         # add a CX gate with control qubit 1 and target qubit 0\n",
    "c.measure_all()   # measure qubits 0 and 1, recording the results in bits 0 and 1"
   ]
  },
  {
   "cell_type": "code",
   "execution_count": 2,
   "id": "4eb3f3b9",
   "metadata": {
    "scrolled": false
   },
   "outputs": [
    {
     "ename": "ImportError",
     "evalue": "cannot import name 'ValidationInfo' from 'pydantic' (C:\\Users\\ahmed\\anaconda3\\Lib\\site-packages\\pydantic\\__init__.cp311-win_amd64.pyd)",
     "output_type": "error",
     "traceback": [
      "\u001b[1;31m---------------------------------------------------------------------------\u001b[0m",
      "\u001b[1;31mImportError\u001b[0m                               Traceback (most recent call last)",
      "Cell \u001b[1;32mIn[2], line 4\u001b[0m\n\u001b[0;32m      2\u001b[0m \u001b[38;5;28;01mimport\u001b[39;00m \u001b[38;5;21;01mnumpy\u001b[39;00m \u001b[38;5;28;01mas\u001b[39;00m \u001b[38;5;21;01mnp\u001b[39;00m\n\u001b[0;32m      3\u001b[0m \u001b[38;5;28;01mfrom\u001b[39;00m \u001b[38;5;21;01mpytket\u001b[39;00m \u001b[38;5;28;01mimport\u001b[39;00m Circuit\n\u001b[1;32m----> 4\u001b[0m \u001b[38;5;28;01mfrom\u001b[39;00m \u001b[38;5;21;01mpytket\u001b[39;00m\u001b[38;5;21;01m.\u001b[39;00m\u001b[38;5;21;01mextensions\u001b[39;00m\u001b[38;5;21;01m.\u001b[39;00m\u001b[38;5;21;01mqiskit\u001b[39;00m \u001b[38;5;28;01mimport\u001b[39;00m AerBackend, tk_to_qiskit, qiskit_to_tk\n\u001b[0;32m      5\u001b[0m \u001b[38;5;28;01mfrom\u001b[39;00m \u001b[38;5;21;01mpytket\u001b[39;00m\u001b[38;5;21;01m.\u001b[39;00m\u001b[38;5;21;01mpasses\u001b[39;00m \u001b[38;5;28;01mimport\u001b[39;00m FullPeepholeOptimise\n\u001b[0;32m      6\u001b[0m \u001b[38;5;28;01mfrom\u001b[39;00m \u001b[38;5;21;01mpytket\u001b[39;00m\u001b[38;5;21;01m.\u001b[39;00m\u001b[38;5;21;01mcircuit\u001b[39;00m\u001b[38;5;21;01m.\u001b[39;00m\u001b[38;5;21;01mdisplay\u001b[39;00m \u001b[38;5;28;01mimport\u001b[39;00m render_circuit_jupyter\n",
      "File \u001b[1;32m~\\AppData\\Roaming\\Python\\Python311\\site-packages\\pytket\\extensions\\qiskit\\__init__.py:18\u001b[0m\n\u001b[0;32m     16\u001b[0m \u001b[38;5;66;03m# _metadata.py is copied to the folder after installation.\u001b[39;00m\n\u001b[0;32m     17\u001b[0m \u001b[38;5;28;01mfrom\u001b[39;00m \u001b[38;5;21;01m.\u001b[39;00m\u001b[38;5;21;01m_metadata\u001b[39;00m \u001b[38;5;28;01mimport\u001b[39;00m __extension_version__, __extension_name__\n\u001b[1;32m---> 18\u001b[0m \u001b[38;5;28;01mfrom\u001b[39;00m \u001b[38;5;21;01m.\u001b[39;00m\u001b[38;5;21;01mbackends\u001b[39;00m \u001b[38;5;28;01mimport\u001b[39;00m (\n\u001b[0;32m     19\u001b[0m     IBMQBackend,\n\u001b[0;32m     20\u001b[0m     NoIBMQCredentialsError,\n\u001b[0;32m     21\u001b[0m     AerBackend,\n\u001b[0;32m     22\u001b[0m     AerStateBackend,\n\u001b[0;32m     23\u001b[0m     AerUnitaryBackend,\n\u001b[0;32m     24\u001b[0m     IBMQEmulatorBackend,\n\u001b[0;32m     25\u001b[0m )\n\u001b[0;32m     26\u001b[0m \u001b[38;5;28;01mfrom\u001b[39;00m \u001b[38;5;21;01m.\u001b[39;00m\u001b[38;5;21;01mbackends\u001b[39;00m\u001b[38;5;21;01m.\u001b[39;00m\u001b[38;5;21;01mconfig\u001b[39;00m \u001b[38;5;28;01mimport\u001b[39;00m set_ibmq_config\n\u001b[0;32m     27\u001b[0m \u001b[38;5;28;01mfrom\u001b[39;00m \u001b[38;5;21;01m.\u001b[39;00m\u001b[38;5;21;01mqiskit_convert\u001b[39;00m \u001b[38;5;28;01mimport\u001b[39;00m qiskit_to_tk, tk_to_qiskit, process_characterisation\n",
      "File \u001b[1;32m~\\AppData\\Roaming\\Python\\Python311\\site-packages\\pytket\\extensions\\qiskit\\backends\\__init__.py:16\u001b[0m\n\u001b[0;32m      1\u001b[0m \u001b[38;5;66;03m# Copyright 2019-2024 Quantinuum\u001b[39;00m\n\u001b[0;32m      2\u001b[0m \u001b[38;5;66;03m#\u001b[39;00m\n\u001b[0;32m      3\u001b[0m \u001b[38;5;66;03m# Licensed under the Apache License, Version 2.0 (the \"License\");\u001b[39;00m\n\u001b[1;32m   (...)\u001b[0m\n\u001b[0;32m     12\u001b[0m \u001b[38;5;66;03m# See the License for the specific language governing permissions and\u001b[39;00m\n\u001b[0;32m     13\u001b[0m \u001b[38;5;66;03m# limitations under the License.\u001b[39;00m\n\u001b[0;32m     14\u001b[0m \u001b[38;5;124;03m\"\"\"Backends for connecting to IBM devices and simulators directly from pytket\"\"\"\u001b[39;00m\n\u001b[1;32m---> 16\u001b[0m \u001b[38;5;28;01mfrom\u001b[39;00m \u001b[38;5;21;01m.\u001b[39;00m\u001b[38;5;21;01mibm\u001b[39;00m \u001b[38;5;28;01mimport\u001b[39;00m IBMQBackend, NoIBMQCredentialsError\n\u001b[0;32m     17\u001b[0m \u001b[38;5;28;01mfrom\u001b[39;00m \u001b[38;5;21;01m.\u001b[39;00m\u001b[38;5;21;01maer\u001b[39;00m \u001b[38;5;28;01mimport\u001b[39;00m AerBackend, AerStateBackend, AerUnitaryBackend\n\u001b[0;32m     18\u001b[0m \u001b[38;5;28;01mfrom\u001b[39;00m \u001b[38;5;21;01m.\u001b[39;00m\u001b[38;5;21;01mibmq_emulator\u001b[39;00m \u001b[38;5;28;01mimport\u001b[39;00m IBMQEmulatorBackend\n",
      "File \u001b[1;32m~\\AppData\\Roaming\\Python\\Python311\\site-packages\\pytket\\extensions\\qiskit\\backends\\ibm.py:45\u001b[0m\n\u001b[0;32m     40\u001b[0m \u001b[38;5;66;03m# RuntimeJob has no queue_position attribute, which is referenced\u001b[39;00m\n\u001b[0;32m     41\u001b[0m \u001b[38;5;66;03m# via job_monitor see-> https://github.com/CQCL/pytket-qiskit/issues/48\u001b[39;00m\n\u001b[0;32m     42\u001b[0m \u001b[38;5;66;03m# therefore we can't use job_monitor until fixed\u001b[39;00m\n\u001b[0;32m     43\u001b[0m \u001b[38;5;66;03m# from qiskit.tools.monitor import job_monitor  # type: ignore\u001b[39;00m\n\u001b[0;32m     44\u001b[0m \u001b[38;5;28;01mfrom\u001b[39;00m \u001b[38;5;21;01mqiskit\u001b[39;00m\u001b[38;5;21;01m.\u001b[39;00m\u001b[38;5;21;01mresult\u001b[39;00m\u001b[38;5;21;01m.\u001b[39;00m\u001b[38;5;21;01mdistributions\u001b[39;00m \u001b[38;5;28;01mimport\u001b[39;00m QuasiDistribution  \u001b[38;5;66;03m# type: ignore\u001b[39;00m\n\u001b[1;32m---> 45\u001b[0m \u001b[38;5;28;01mfrom\u001b[39;00m \u001b[38;5;21;01mqiskit_ibm_runtime\u001b[39;00m \u001b[38;5;28;01mimport\u001b[39;00m (  \u001b[38;5;66;03m# type: ignore\u001b[39;00m\n\u001b[0;32m     46\u001b[0m     QiskitRuntimeService,\n\u001b[0;32m     47\u001b[0m     Session,\n\u001b[0;32m     48\u001b[0m     Options,\n\u001b[0;32m     49\u001b[0m     Sampler,\n\u001b[0;32m     50\u001b[0m     RuntimeJob,\n\u001b[0;32m     51\u001b[0m )\n\u001b[0;32m     53\u001b[0m \u001b[38;5;28;01mfrom\u001b[39;00m \u001b[38;5;21;01mpytket\u001b[39;00m\u001b[38;5;21;01m.\u001b[39;00m\u001b[38;5;21;01mcircuit\u001b[39;00m \u001b[38;5;28;01mimport\u001b[39;00m Circuit, OpType\n\u001b[0;32m     54\u001b[0m \u001b[38;5;28;01mfrom\u001b[39;00m \u001b[38;5;21;01mpytket\u001b[39;00m\u001b[38;5;21;01m.\u001b[39;00m\u001b[38;5;21;01mbackends\u001b[39;00m \u001b[38;5;28;01mimport\u001b[39;00m Backend, CircuitNotRunError, CircuitStatus, ResultHandle\n",
      "File \u001b[1;32m~\\AppData\\Roaming\\Python\\Python311\\site-packages\\qiskit_ibm_runtime\\__init__.py:220\u001b[0m\n\u001b[0;32m    217\u001b[0m \u001b[38;5;28;01mfrom\u001b[39;00m \u001b[38;5;21;01m.\u001b[39;00m\u001b[38;5;21;01mutils\u001b[39;00m\u001b[38;5;21;01m.\u001b[39;00m\u001b[38;5;21;01mutils\u001b[39;00m \u001b[38;5;28;01mimport\u001b[39;00m setup_logger\n\u001b[0;32m    218\u001b[0m \u001b[38;5;28;01mfrom\u001b[39;00m \u001b[38;5;21;01m.\u001b[39;00m\u001b[38;5;21;01mversion\u001b[39;00m \u001b[38;5;28;01mimport\u001b[39;00m __version__\n\u001b[1;32m--> 220\u001b[0m \u001b[38;5;28;01mfrom\u001b[39;00m \u001b[38;5;21;01m.\u001b[39;00m\u001b[38;5;21;01mestimator\u001b[39;00m \u001b[38;5;28;01mimport\u001b[39;00m (  \u001b[38;5;66;03m# pylint: disable=reimported\u001b[39;00m\n\u001b[0;32m    221\u001b[0m     EstimatorV2,\n\u001b[0;32m    222\u001b[0m     EstimatorV1,\n\u001b[0;32m    223\u001b[0m     EstimatorV1 \u001b[38;5;28;01mas\u001b[39;00m Estimator,\n\u001b[0;32m    224\u001b[0m )\n\u001b[0;32m    225\u001b[0m \u001b[38;5;28;01mfrom\u001b[39;00m \u001b[38;5;21;01m.\u001b[39;00m\u001b[38;5;21;01msampler\u001b[39;00m \u001b[38;5;28;01mimport\u001b[39;00m (  \u001b[38;5;66;03m# pylint: disable=reimported\u001b[39;00m\n\u001b[0;32m    226\u001b[0m     SamplerV2,\n\u001b[0;32m    227\u001b[0m     SamplerV1,\n\u001b[0;32m    228\u001b[0m     SamplerV1 \u001b[38;5;28;01mas\u001b[39;00m Sampler,\n\u001b[0;32m    229\u001b[0m )\n\u001b[0;32m    230\u001b[0m \u001b[38;5;28;01mfrom\u001b[39;00m \u001b[38;5;21;01m.\u001b[39;00m\u001b[38;5;21;01moptions\u001b[39;00m \u001b[38;5;28;01mimport\u001b[39;00m Options, EstimatorOptions, SamplerOptions, OptionsV2\n",
      "File \u001b[1;32m~\\AppData\\Roaming\\Python\\Python311\\site-packages\\qiskit_ibm_runtime\\estimator.py:30\u001b[0m\n\u001b[0;32m     28\u001b[0m \u001b[38;5;28;01mfrom\u001b[39;00m \u001b[38;5;21;01m.\u001b[39;00m\u001b[38;5;21;01mruntime_job_v2\u001b[39;00m \u001b[38;5;28;01mimport\u001b[39;00m RuntimeJobV2\n\u001b[0;32m     29\u001b[0m \u001b[38;5;28;01mfrom\u001b[39;00m \u001b[38;5;21;01m.\u001b[39;00m\u001b[38;5;21;01mibm_backend\u001b[39;00m \u001b[38;5;28;01mimport\u001b[39;00m IBMBackend\n\u001b[1;32m---> 30\u001b[0m \u001b[38;5;28;01mfrom\u001b[39;00m \u001b[38;5;21;01m.\u001b[39;00m\u001b[38;5;21;01moptions\u001b[39;00m \u001b[38;5;28;01mimport\u001b[39;00m Options\n\u001b[0;32m     31\u001b[0m \u001b[38;5;28;01mfrom\u001b[39;00m \u001b[38;5;21;01m.\u001b[39;00m\u001b[38;5;21;01moptions\u001b[39;00m\u001b[38;5;21;01m.\u001b[39;00m\u001b[38;5;21;01mestimator_options\u001b[39;00m \u001b[38;5;28;01mimport\u001b[39;00m EstimatorOptions\n\u001b[0;32m     32\u001b[0m \u001b[38;5;28;01mfrom\u001b[39;00m \u001b[38;5;21;01m.\u001b[39;00m\u001b[38;5;21;01mbase_primitive\u001b[39;00m \u001b[38;5;28;01mimport\u001b[39;00m BasePrimitiveV1, BasePrimitiveV2\n",
      "File \u001b[1;32m~\\AppData\\Roaming\\Python\\Python311\\site-packages\\qiskit_ibm_runtime\\options\\__init__.py:98\u001b[0m\n\u001b[0;32m      1\u001b[0m \u001b[38;5;66;03m# This code is part of Qiskit.\u001b[39;00m\n\u001b[0;32m      2\u001b[0m \u001b[38;5;66;03m#\u001b[39;00m\n\u001b[0;32m      3\u001b[0m \u001b[38;5;66;03m# (C) Copyright IBM 2022, 2024\u001b[39;00m\n\u001b[1;32m   (...)\u001b[0m\n\u001b[0;32m     10\u001b[0m \u001b[38;5;66;03m# copyright notice, and modified files need to carry a notice indicating\u001b[39;00m\n\u001b[0;32m     11\u001b[0m \u001b[38;5;66;03m# that they have been altered from the originals.\u001b[39;00m\n\u001b[0;32m     13\u001b[0m \u001b[38;5;124;03m\"\"\"\u001b[39;00m\n\u001b[0;32m     14\u001b[0m \u001b[38;5;124;03m=====================================================\u001b[39;00m\n\u001b[0;32m     15\u001b[0m \u001b[38;5;124;03mPrimitive options (:mod:`qiskit_ibm_runtime.options`)\u001b[39;00m\n\u001b[1;32m   (...)\u001b[0m\n\u001b[0;32m     95\u001b[0m \n\u001b[0;32m     96\u001b[0m \u001b[38;5;124;03m\"\"\"\u001b[39;00m\n\u001b[1;32m---> 98\u001b[0m \u001b[38;5;28;01mfrom\u001b[39;00m \u001b[38;5;21;01m.\u001b[39;00m\u001b[38;5;21;01menvironment_options\u001b[39;00m \u001b[38;5;28;01mimport\u001b[39;00m EnvironmentOptions\n\u001b[0;32m     99\u001b[0m \u001b[38;5;28;01mfrom\u001b[39;00m \u001b[38;5;21;01m.\u001b[39;00m\u001b[38;5;21;01mexecution_options\u001b[39;00m \u001b[38;5;28;01mimport\u001b[39;00m ExecutionOptions\n\u001b[0;32m    100\u001b[0m \u001b[38;5;28;01mfrom\u001b[39;00m \u001b[38;5;21;01m.\u001b[39;00m\u001b[38;5;21;01mexecution_options\u001b[39;00m \u001b[38;5;28;01mimport\u001b[39;00m ExecutionOptionsV2\n",
      "File \u001b[1;32m~\\AppData\\Roaming\\Python\\Python311\\site-packages\\qiskit_ibm_runtime\\options\\environment_options.py:17\u001b[0m\n\u001b[0;32m     13\u001b[0m \u001b[38;5;124;03m\"\"\"Options related to the execution environment.\"\"\"\u001b[39;00m\n\u001b[0;32m     15\u001b[0m \u001b[38;5;28;01mfrom\u001b[39;00m \u001b[38;5;21;01mtyping\u001b[39;00m \u001b[38;5;28;01mimport\u001b[39;00m Optional, Callable, List, Literal\n\u001b[1;32m---> 17\u001b[0m \u001b[38;5;28;01mfrom\u001b[39;00m \u001b[38;5;21;01m.\u001b[39;00m\u001b[38;5;21;01mutils\u001b[39;00m \u001b[38;5;28;01mimport\u001b[39;00m primitive_dataclass\n\u001b[0;32m     19\u001b[0m LogLevelType \u001b[38;5;241m=\u001b[39m Literal[\n\u001b[0;32m     20\u001b[0m     \u001b[38;5;124m\"\u001b[39m\u001b[38;5;124mDEBUG\u001b[39m\u001b[38;5;124m\"\u001b[39m,\n\u001b[0;32m     21\u001b[0m     \u001b[38;5;124m\"\u001b[39m\u001b[38;5;124mINFO\u001b[39m\u001b[38;5;124m\"\u001b[39m,\n\u001b[1;32m   (...)\u001b[0m\n\u001b[0;32m     24\u001b[0m     \u001b[38;5;124m\"\u001b[39m\u001b[38;5;124mCRITICAL\u001b[39m\u001b[38;5;124m\"\u001b[39m,\n\u001b[0;32m     25\u001b[0m ]\n\u001b[0;32m     28\u001b[0m \u001b[38;5;129m@primitive_dataclass\u001b[39m\n\u001b[0;32m     29\u001b[0m \u001b[38;5;28;01mclass\u001b[39;00m \u001b[38;5;21;01mEnvironmentOptions\u001b[39;00m:\n",
      "File \u001b[1;32m~\\AppData\\Roaming\\Python\\Python311\\site-packages\\qiskit_ibm_runtime\\options\\utils.py:23\u001b[0m\n\u001b[0;32m     20\u001b[0m \u001b[38;5;28;01mfrom\u001b[39;00m \u001b[38;5;21;01mdataclasses\u001b[39;00m \u001b[38;5;28;01mimport\u001b[39;00m is_dataclass, asdict\n\u001b[0;32m     21\u001b[0m \u001b[38;5;28;01mfrom\u001b[39;00m \u001b[38;5;21;01mnumbers\u001b[39;00m \u001b[38;5;28;01mimport\u001b[39;00m Real\n\u001b[1;32m---> 23\u001b[0m \u001b[38;5;28;01mfrom\u001b[39;00m \u001b[38;5;21;01mpydantic\u001b[39;00m \u001b[38;5;28;01mimport\u001b[39;00m ConfigDict, ValidationInfo, field_validator\n\u001b[0;32m     24\u001b[0m \u001b[38;5;28;01mfrom\u001b[39;00m \u001b[38;5;21;01mpydantic\u001b[39;00m\u001b[38;5;21;01m.\u001b[39;00m\u001b[38;5;21;01mdataclasses\u001b[39;00m \u001b[38;5;28;01mimport\u001b[39;00m dataclass\n\u001b[0;32m     26\u001b[0m \u001b[38;5;28;01mfrom\u001b[39;00m \u001b[38;5;21;01mqiskit\u001b[39;00m\u001b[38;5;21;01m.\u001b[39;00m\u001b[38;5;21;01mproviders\u001b[39;00m\u001b[38;5;21;01m.\u001b[39;00m\u001b[38;5;21;01mbackend\u001b[39;00m \u001b[38;5;28;01mimport\u001b[39;00m Backend\n",
      "\u001b[1;31mImportError\u001b[0m: cannot import name 'ValidationInfo' from 'pydantic' (C:\\Users\\ahmed\\anaconda3\\Lib\\site-packages\\pydantic\\__init__.cp311-win_amd64.pyd)"
     ]
    }
   ],
   "source": [
    "import math\n",
    "import numpy as np\n",
    "from pytket import Circuit\n",
    "from pytket.extensions.qiskit import AerBackend, tk_to_qiskit, qiskit_to_tk\n",
    "from pytket.passes import FullPeepholeOptimise\n",
    "from pytket.circuit.display import render_circuit_jupyter\n",
    "import matplotlib.pyplot as plt\n",
    "from qiskit.visualization import plot_histogram\n",
    "\n",
    "def find_all_as(N):\n",
    "    ns = []\n",
    "    for n in range(2, N):\n",
    "        if math.gcd(n, N) == 1:\n",
    "            ns.append(n)\n",
    "    return ns\n",
    "\n",
    "N = 7\n",
    "a = 2\n",
    "n_len = math.ceil(math.log2(N))\n",
    "m_len = 2 * n_len\n",
    "\n",
    "# Create a pytket circuit\n",
    "circuit = Circuit(m_len + n_len)\n",
    "\n",
    "# Apply Hadamard gates to the first m_len qubits\n",
    "for q in range(m_len):\n",
    "    circuit.H(q)\n",
    "\n",
    "# Apply X gate to the m_len qubit\n",
    "circuit.X(m_len)\n",
    "\n",
    "# Find all 'a's that are coprime to N\n",
    "ns = find_all_as(N)\n",
    "\n",
    "if a not in ns:\n",
    "    raise ValueError(f\"'a' must be one of {ns}\")\n",
    "\n",
    "# Apply controlled-U gates\n",
    "for q in range(m_len):\n",
    "    power = 2**q\n",
    "    result = pow(a, power, N)\n",
    "    for i, bit in enumerate(format(result ^ 1, f'0{n_len}b')):\n",
    "        if bit == '1':\n",
    "            circuit.CX(q, i + m_len)\n",
    "\n",
    "# Apply inverse QFT\n",
    "def qft_inv(circ, qubits):\n",
    "    n = len(qubits)\n",
    "    for j in range(n):\n",
    "        for k in range(j):\n",
    "            circ.CRz(-math.pi / (2 ** (j - k)), qubits[j], qubits[k])\n",
    "        circ.H(qubits[j])\n",
    "    for i in range(n//2):\n",
    "        circ.SWAP(qubits[i], qubits[n-i-1])\n",
    "    return circ\n",
    "\n",
    "circuit = qft_inv(circuit, range(m_len))\n",
    "\n",
    "# Measure the first m_len qubits\n",
    "circuit.measure_all()\n",
    "\n",
    "# Display the circuit\n",
    "render_circuit_jupyter(circuit)\n",
    "\n",
    "# Optimize the circuit\n",
    "FullPeepholeOptimise().apply(circuit)\n",
    "\n",
    "# Convert to Qiskit circuit for simulation\n",
    "qc = tk_to_qiskit(circuit)\n",
    "\n",
    "# Simulate the circuit using Aer backend\n",
    "backend = AerBackend()\n",
    "compiled_circuit = backend.get_compiled_circuit(circuit)\n",
    "result = backend.run_circuit(compiled_circuit, n_shots=1000)\n",
    "counts = result.get_counts()\n",
    "\n",
    "# Convert counts to a format suitable for plotting\n",
    "counts_formatted = {format(key, '0' + str(m_len) + 'b'): val for key, val in counts.items()}\n",
    "\n",
    "# Plot the histogram\n",
    "plot_histogram(counts_formatted, figsize=(17, 5))\n",
    "plt.show()\n"
   ]
  },
  {
   "cell_type": "code",
   "execution_count": null,
   "id": "9a0c52b9",
   "metadata": {},
   "outputs": [],
   "source": []
  }
 ],
 "metadata": {
  "kernelspec": {
   "display_name": "Python 3 (ipykernel)",
   "language": "python",
   "name": "python3"
  },
  "language_info": {
   "codemirror_mode": {
    "name": "ipython",
    "version": 3
   },
   "file_extension": ".py",
   "mimetype": "text/x-python",
   "name": "python",
   "nbconvert_exporter": "python",
   "pygments_lexer": "ipython3",
   "version": "3.11.5"
  }
 },
 "nbformat": 4,
 "nbformat_minor": 5
}
