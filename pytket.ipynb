{
 "cells": [
  {
   "cell_type": "markdown",
   "id": "e5e93b27",
   "metadata": {},
   "source": [
    "## Version Information\n",
    "\n",
    "<table align=\"left\">\n",
    "  <thead>\n",
    "    <tr>\n",
    "      <th>Component</th>\n",
    "      <th>Version</th>\n",
    "    </tr>\n",
    "  </thead>\n",
    "  <tbody>\n",
    "    <tr>\n",
    "      <td>python</td>\n",
    "      <td>3.11.5</td>\n",
    "    </tr>\n",
    "    <tr>\n",
    "      <td>pytket</td>\n",
    "      <td>1.27.0</td>\n",
    "    </tr>\n",
    "  </tbody>\n",
    "</table>\n",
    "\n",
    "</table>\n"
   ]
  },
  {
   "cell_type": "code",
   "execution_count": 1,
   "id": "dc383df8",
   "metadata": {},
   "outputs": [
    {
     "data": {
      "text/plain": [
       "[H q[0]; Rz(0.25) q[0]; CX q[1], q[0]; Measure q[0] --> c[0]; Measure q[1] --> c[1]; ]"
      ]
     },
     "execution_count": 1,
     "metadata": {},
     "output_type": "execute_result"
    }
   ],
   "source": [
    "from pytket import Circuit\n",
    "\n",
    "c = Circuit(2, 2) # define a circuit with 2 qubits and 2 bits\n",
    "c.H(0)            # add a Hadamard gate to qubit 0\n",
    "c.Rz(0.25, 0)     # add an Rz gate of angle 0.25*pi to qubit 0\n",
    "c.CX(1,0)         # add a CX gate with control qubit 1 and target qubit 0\n",
    "c.measure_all()   # measure qubits 0 and 1, recording the results in bits 0 and 1"
   ]
  },
  {
   "cell_type": "code",
   "execution_count": 2,
   "id": "4eb3f3b9",
   "metadata": {},
   "outputs": [
    {
     "ename": "FileNotFoundError",
     "evalue": "[Errno 2] No such file or directory: 'my_qasm_file.qasm'",
     "output_type": "error",
     "traceback": [
      "\u001b[1;31m---------------------------------------------------------------------------\u001b[0m",
      "\u001b[1;31mFileNotFoundError\u001b[0m                         Traceback (most recent call last)",
      "Cell \u001b[1;32mIn[2], line 3\u001b[0m\n\u001b[0;32m      1\u001b[0m \u001b[38;5;28;01mfrom\u001b[39;00m \u001b[38;5;21;01mpytket\u001b[39;00m\u001b[38;5;21;01m.\u001b[39;00m\u001b[38;5;21;01mqasm\u001b[39;00m \u001b[38;5;28;01mimport\u001b[39;00m circuit_from_qasm\n\u001b[1;32m----> 3\u001b[0m c \u001b[38;5;241m=\u001b[39m circuit_from_qasm(\u001b[38;5;124m\"\u001b[39m\u001b[38;5;124mmy_qasm_file.qasm\u001b[39m\u001b[38;5;124m\"\u001b[39m)\n",
      "File \u001b[1;32m~\\anaconda3\\Lib\\site-packages\\pytket\\qasm\\qasm.py:968\u001b[0m, in \u001b[0;36mcircuit_from_qasm\u001b[1;34m(input_file, encoding, maxwidth)\u001b[0m\n\u001b[0;32m    966\u001b[0m \u001b[38;5;28;01mif\u001b[39;00m ext \u001b[38;5;241m!=\u001b[39m \u001b[38;5;124m\"\u001b[39m\u001b[38;5;124m.qasm\u001b[39m\u001b[38;5;124m\"\u001b[39m:\n\u001b[0;32m    967\u001b[0m     \u001b[38;5;28;01mraise\u001b[39;00m \u001b[38;5;167;01mTypeError\u001b[39;00m(\u001b[38;5;124m\"\u001b[39m\u001b[38;5;124mCan only convert .qasm files\u001b[39m\u001b[38;5;124m\"\u001b[39m)\n\u001b[1;32m--> 968\u001b[0m \u001b[38;5;28;01mwith\u001b[39;00m \u001b[38;5;28mopen\u001b[39m(input_file, \u001b[38;5;124m\"\u001b[39m\u001b[38;5;124mr\u001b[39m\u001b[38;5;124m\"\u001b[39m, encoding\u001b[38;5;241m=\u001b[39mencoding) \u001b[38;5;28;01mas\u001b[39;00m f:\n\u001b[0;32m    969\u001b[0m     \u001b[38;5;28;01mtry\u001b[39;00m:\n\u001b[0;32m    970\u001b[0m         circ \u001b[38;5;241m=\u001b[39m circuit_from_qasm_io(f, maxwidth\u001b[38;5;241m=\u001b[39mmaxwidth)\n",
      "\u001b[1;31mFileNotFoundError\u001b[0m: [Errno 2] No such file or directory: 'my_qasm_file.qasm'"
     ]
    }
   ],
   "source": [
    "from pytket.qasm import circuit_from_qasm\n",
    "\n",
    "c = circuit_from_qasm(\"my_qasm_file.qasm\")"
   ]
  },
  {
   "cell_type": "code",
   "execution_count": 3,
   "id": "e36d5bdb",
   "metadata": {},
   "outputs": [
    {
     "data": {
      "text/plain": [
       "32317006071311007300714876688669951960444102669715484032130345427524655138867890893197201411522913463688717960921898019494119559150490921095088152386448283120630877367300996091750197750389652106796057638384067568276792218642619756161838094338476170470581645852036305042887575891541065808607552399123930385521914333389668342420684974786564569494856176035326322058077805659331026192708460314150258592864177116725943603718461857357598351152301645904403697613233287231227125684710820209725157101726931323469678542580656697935045997268352998638215525166389437335543602135433229604645318478604952148193555853611059596230656"
      ]
     },
     "execution_count": 3,
     "metadata": {},
     "output_type": "execute_result"
    }
   ],
   "source": [
    "2**2048"
   ]
  },
  {
   "cell_type": "code",
   "execution_count": null,
   "id": "9a0c52b9",
   "metadata": {},
   "outputs": [],
   "source": []
  }
 ],
 "metadata": {
  "kernelspec": {
   "display_name": "Python 3 (ipykernel)",
   "language": "python",
   "name": "python3"
  },
  "language_info": {
   "codemirror_mode": {
    "name": "ipython",
    "version": 3
   },
   "file_extension": ".py",
   "mimetype": "text/x-python",
   "name": "python",
   "nbconvert_exporter": "python",
   "pygments_lexer": "ipython3",
   "version": "3.11.5"
  }
 },
 "nbformat": 4,
 "nbformat_minor": 5
}
