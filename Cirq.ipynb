{
 "cells": [
  {
   "cell_type": "markdown",
   "id": "9a75ff20",
   "metadata": {},
   "source": [
    "## Version Information\n",
    "\n",
    "<table align=\"left\">\n",
    "  <thead>\n",
    "    <tr>\n",
    "      <th>Component</th>\n",
    "      <th>Version</th>\n",
    "    </tr>\n",
    "  </thead>\n",
    "  <tbody>\n",
    "    <tr>\n",
    "      <td>python</td>\n",
    "      <td>3.11.5</td>\n",
    "    </tr>\n",
    "    <tr>\n",
    "      <td>cirq</td>\n",
    "      <td>1.3.0</td>\n",
    "    </tr>\n",
    "  </tbody>\n",
    "</table>\n",
    "\n",
    "</table>\n"
   ]
  },
  {
   "cell_type": "code",
   "execution_count": 1,
   "id": "fef7e34b",
   "metadata": {},
   "outputs": [],
   "source": [
    "import cirq"
   ]
  },
  {
   "cell_type": "code",
   "execution_count": 47,
   "id": "a544096c",
   "metadata": {},
   "outputs": [],
   "source": [
    "def find_all_as(N):\n",
    "    ns = []\n",
    "    for n in range(2, N):\n",
    "        if math.gcd(n, N) == 1:\n",
    "            ns.append(n)\n",
    "    return ns"
   ]
  },
  {
   "cell_type": "code",
   "execution_count": 57,
   "id": "1758fa62",
   "metadata": {
    "scrolled": false
   },
   "outputs": [
    {
     "name": "stdout",
     "output_type": "stream",
     "text": [
      "          ┌──┐                        ┌────────┐   ┌──────────────┐   ┌─────────────────┐   ┌──────────────────────┐   ┌─────────────────┐   ┌──────────────┐   ┌────────┐\n",
      "0: ───H────@─────@───────H───@──────────@─────────────────@────────────────────@───────────────────────────@──────────────────────────────────────────────────────────────────────────────×───M('result')───\n",
      "           │     │           │          │                 │                    │                           │                                                                              │   │\n",
      "1: ───H────┼@────┼───@───────@^-0.5────H┼───────────@─────┼─────────────@──────┼───────────────────@───────┼────────────────────@─────────────────────────────────────────────────────×───┼───M─────────────\n",
      "           ││    │   │                  │           │     │             │      │                   │       │                    │                                                     │   │   │\n",
      "2: ───H────┼┼────┼───┼──────────────────@^-0.25─────@^-0.5┼────────────H┼──────┼─────────────@─────┼───────┼─────────────@──────┼───────────────────@────────────────────────×────────┼───┼───M─────────────\n",
      "           ││    │   │                                    │             │      │             │     │       │             │      │                   │                        │        │   │   │\n",
      "3: ───H────┼┼────┼───┼────────────────────────────────────@^(-1/8)──────@^-0.25┼─────────────@^-0.5┼───────┼────────────H┼──────┼─────────────@─────┼─────────────@──────────×────────┼───┼───M─────────────\n",
      "           ││    │   │                                                         │                   │       │             │      │             │     │             │                   │   │   │\n",
      "4: ───H────┼┼────┼───┼─────────────────────────────────────────────────────────@^(-1/16)───────────@^(-1/8)┼─────────────@^-0.25┼─────────────@^-0.5┼────────────H┼──────────@────────×───┼───M─────────────\n",
      "           ││    │   │                                                                                     │                    │                   │             │          │            │   │\n",
      "5: ───H────┼┼────┼───┼─────────────────────────────────────────────────────────────────────────────────────@^-0.031─────────────@^(-1/16)───────────@^(-1/8)──────@^-0.25────@^-0.5───H───×───M─────────────\n",
      "           ││    │   │\n",
      "6: ───X────┼X────┼───┼──────────────────────────────────────────────────────────────────────────────────────────────────────────────────────────────────────────────────────────────────────────────────────\n",
      "           │     │   │\n",
      "7: ────────X─────┼───┼──────────────────────────────────────────────────────────────────────────────────────────────────────────────────────────────────────────────────────────────────────────────────────\n",
      "                 │   │\n",
      "8: ──────────────X───X──────────────────────────────────────────────────────────────────────────────────────────────────────────────────────────────────────────────────────────────────────────────────────\n",
      "          └──┘                        └────────┘   └──────────────┘   └─────────────────┘   └──────────────────────┘   └─────────────────┘   └──────────────┘   └────────┘\n"
     ]
    },
    {
     "data": {
      "image/png": "[encoded data removed]",
      "text/plain": [
       "<Figure size 1700x500 with 1 Axes>"
      ]
     },
     "metadata": {},
     "output_type": "display_data"
    }
   ],
   "source": [
    "import cirq\n",
    "import numpy as np\n",
    "import math\n",
    "import matplotlib.pyplot as plt\n",
    "\n",
    "N = 5\n",
    "a = 2\n",
    "n_len = math.ceil(math.log2(N))\n",
    "m_len = 2 * n_len\n",
    "\n",
    "qubits = [cirq.LineQubit(i) for i in range(m_len + n_len)]\n",
    "circuit = cirq.Circuit()\n",
    "\n",
    "# Apply Hadamard gates to the first m_len qubits\n",
    "for q in range(m_len):\n",
    "    circuit.append(cirq.H(qubits[q]))\n",
    "\n",
    "# Apply X gate to the m_len qubit\n",
    "circuit.append(cirq.X(qubits[m_len]))\n",
    "\n",
    "# Find all 'a's that are coprime to N\n",
    "ns = find_all_as(N)\n",
    "\n",
    "if a not in ns:\n",
    "    raise ValueError(f\"'a' must be one of {ns}\")\n",
    "\n",
    "# Apply controlled-U gates\n",
    "for q in range(m_len):\n",
    "    power = 2**q\n",
    "    result = pow(a, power, N)\n",
    "    for i, bit in enumerate(format(result ^ 1, f'0{n_len}b')):\n",
    "        if bit == '1':\n",
    "            circuit.append(cirq.CNOT(qubits[q], qubits[i + m_len]))\n",
    "\n",
    "# Apply inverse QFT\n",
    "def qft_inv(qubits):\n",
    "    n = len(qubits)\n",
    "    circuit = cirq.Circuit()\n",
    "    for j in range(n):\n",
    "        for k in range(j):\n",
    "            circuit.append(cirq.CZ(qubits[j], qubits[k])**-0.5**(j - k))\n",
    "        circuit.append(cirq.H(qubits[j]))\n",
    "    for i in range(n//2):\n",
    "        circuit.append(cirq.SWAP(qubits[i], qubits[n-i-1]))\n",
    "    return circuit\n",
    "\n",
    "circuit.append(qft_inv(qubits[:m_len]))\n",
    "\n",
    "# Measure the first m_len qubits\n",
    "circuit.append(cirq.measure(*qubits[:m_len], key='result'))\n",
    "\n",
    "print(circuit)\n",
    "\n",
    "# Simulate the circuit\n",
    "simulator = cirq.Simulator()\n",
    "result = simulator.run(circuit, repetitions=1000)\n",
    "\n",
    "# Get the measurement results\n",
    "counts = result.histogram(key='result')\n",
    "\n",
    "# Convert the counts to a format suitable for plotting\n",
    "counts_formatted = {format(key, f'0{m_len}b'): val for key, val in counts.items()}\n",
    "\n",
    "# Plot the histogram\n",
    "plt.figure(figsize=(17, 5))\n",
    "plt.bar(counts_formatted.keys(), counts_formatted.values())\n",
    "plt.xlabel('Measurement outcome')\n",
    "plt.ylabel('Counts')\n",
    "plt.show()\n"
   ]
  },
  {
   "cell_type": "code",
   "execution_count": null,
   "id": "a5836738",
   "metadata": {},
   "outputs": [],
   "source": []
  }
 ],
 "metadata": {
  "kernelspec": {
   "display_name": "Python 3 (ipykernel)",
   "language": "python",
   "name": "python3"
  },
  "language_info": {
   "codemirror_mode": {
    "name": "ipython",
    "version": 3
   },
   "file_extension": ".py",
   "mimetype": "text/x-python",
   "name": "python",
   "nbconvert_exporter": "python",
   "pygments_lexer": "ipython3",
   "version": "3.11.5"
  }
 },
 "nbformat": 4,
 "nbformat_minor": 5
}
